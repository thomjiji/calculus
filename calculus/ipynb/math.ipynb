{
 "cells": [
  {
   "cell_type": "markdown",
   "source": [
    "### Pythagorean Trigonometric Identity 毕达哥拉斯三角恒等式\n",
    "\n",
    "$$\\sin ^{2} \\theta+\\cos ^{2} \\theta=1$$"
   ],
   "metadata": {
    "collapsed": false
   },
   "id": "e3624babe603c324"
  },
  {
   "cell_type": "markdown",
   "source": [
    "### Sum Formula for sine\n",
    "\n",
    "$$\\sin(a + b) = \\sin(a)\\cos(b) + \\cos(a)\\sin(b)$$"
   ],
   "metadata": {
    "collapsed": false
   },
   "id": "8629369292ba6281"
  },
  {
   "cell_type": "markdown",
   "source": [
    "$$\\sin(a - b) = \\sin(a)\\cos(b) - \\cos(a)\\sin(b)$$"
   ],
   "metadata": {
    "collapsed": false
   },
   "id": "6b0838eb45b198f0"
  },
  {
   "cell_type": "markdown",
   "source": [
    "$$\\cos(a + b) = \\cos(a)\\cos(b) - \\sin(a)\\sin(b)$$"
   ],
   "metadata": {
    "collapsed": false
   },
   "id": "6f537831978b051"
  },
  {
   "cell_type": "markdown",
   "source": [
    "$$\\cos(a - b) = \\cos(a)\\cos(b) + \\sin(a)\\sin(b)$$"
   ],
   "metadata": {
    "collapsed": false
   },
   "id": "45805fa9d468a69"
  },
  {
   "cell_type": "markdown",
   "source": [
    "## Derivative"
   ],
   "metadata": {
    "collapsed": false
   },
   "id": "6f6f80b382f682e3"
  },
  {
   "cell_type": "markdown",
   "source": [
    "$\\displaystyle\\lim_{x \\to 4} \\frac{x^2 - x - 12}{x - 4}$ is continuous for all real number other than $x$ = 4 which means $g$ is continuous for all real numbers other than $x$ = 4.\n",
    "\n",
    "In order for $g$ to also be continuous at $x$ = 4, the following equality must hold:\n",
    "\n",
    "$$\\lim_{x \\to 4} g(x) = g(4)$$"
   ],
   "metadata": {
    "collapsed": false
   },
   "id": "1128d165257881c7"
  },
  {
   "cell_type": "markdown",
   "source": [
    "The general formula for the derivative of a function $f$ at a point $a$ is given by the limit expression:\n",
    "\n",
    "$$f'(a) = \\lim_{{h \\to 0}} \\frac{{f(a + h) - f(a)}}{h}$$\n",
    "\n",
    "The alternative form of the derivative of the function $f$ at a number $a$, denoted $f'(a)$, is given by\n",
    "\n",
    "$$f'(a) = \\lim_{{x \\to a}} \\frac{{f(x) - f(a)}}{x - a}$$\n",
    "\n",
    "This form is advantageous in certain computational settings because it often produces numerically more accurate estimates of the derivative than the standard difference quotient. The reason is that it balances the approximation error evenly on both sides of the point a. However, for theoretical work in calculus — including proving theorems or solving calculus problems by hand — the standard one-sided difference quotient is typically more convenient."
   ],
   "metadata": {
    "collapsed": false
   },
   "id": "b51e8fed62aeff16"
  }
 ],
 "metadata": {
  "kernelspec": {
   "display_name": "Python 3",
   "language": "python",
   "name": "python3"
  },
  "language_info": {
   "codemirror_mode": {
    "name": "ipython",
    "version": 2
   },
   "file_extension": ".py",
   "mimetype": "text/x-python",
   "name": "python",
   "nbconvert_exporter": "python",
   "pygments_lexer": "ipython2",
   "version": "2.7.6"
  }
 },
 "nbformat": 4,
 "nbformat_minor": 5
}
