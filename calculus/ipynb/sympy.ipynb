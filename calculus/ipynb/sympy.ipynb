{
 "cells": [
  {
   "cell_type": "code",
   "execution_count": 32,
   "id": "ecd77c27bfc0df80",
   "metadata": {
    "collapsed": false,
    "ExecuteTime": {
     "end_time": "2023-08-22T11:39:30.489140Z",
     "start_time": "2023-08-22T11:39:30.479346Z"
    }
   },
   "outputs": [
    {
     "name": "stdout",
     "output_type": "stream",
     "text": [
      "$$ 6 $$\n"
     ]
    }
   ],
   "source": [
    "\"\"\"General block to calculate derivative.\"\"\"\n",
    "\n",
    "from sympy.abc import e\n",
    "from sympy import (\n",
    "    symbols,\n",
    "    diff,\n",
    "    latex,\n",
    "    expand,\n",
    "    cos,\n",
    "    sin,\n",
    "    tan,\n",
    "    ln,\n",
    "    sqrt,\n",
    "    Rational,\n",
    "    log,\n",
    "    simplify,\n",
    "    factor,\n",
    "    pi,\n",
    "    acos,\n",
    "    csc,\n",
    "    sec,\n",
    "    solve,\n",
    "    N,\n",
    "    exp,\n",
    ")\n",
    "\n",
    "r, h, x, y, t, n = symbols(\"x y t n r h\")\n",
    "\n",
    "f = 6 * x\n",
    "\n",
    "# Compute the derivative of the function\n",
    "f_prime = diff(f, x)\n",
    "\n",
    "f_subs = f_prime.subs(x, 5)\n",
    "\n",
    "print(f\"$$ {latex(f_prime)} $$\")"
   ]
  },
  {
   "cell_type": "markdown",
   "id": "a07797c7072fb807",
   "metadata": {
    "collapsed": false
   },
   "source": [
    "$$ x^{2} + 3 x - \\frac{9 \\pi}{2} $$\n"
   ]
  },
  {
   "cell_type": "code",
   "execution_count": 38,
   "id": "6c7442436d773ae9",
   "metadata": {
    "collapsed": false,
    "ExecuteTime": {
     "end_time": "2023-08-22T14:19:19.266193Z",
     "start_time": "2023-08-22T14:19:19.259114Z"
    }
   },
   "outputs": [
    {
     "name": "stdout",
     "output_type": "stream",
     "text": [
      "$$ \\text{NaN} $$\n"
     ]
    }
   ],
   "source": [
    "\"\"\"Implicit Differentiation\"\"\"\n",
    "\n",
    "from sympy import symbols, Eq, idiff, latex\n",
    "\n",
    "x, y, t= symbols(\"x y t\")\n",
    "\n",
    "# Define the equation\n",
    "equation = Eq(2*x**2 - x, y)\n",
    "\n",
    "# Implicitly differentiate the equation with respect to x\n",
    "dy_dx = idiff(equation.lhs - equation.rhs, y, x)\n",
    "\n",
    "dy_dx_subs = dy_dx.subs({x: -1, y: 2})\n",
    "\n",
    "print(f\"$$ {latex(dy_dx)} $$\")"
   ]
  },
  {
   "cell_type": "markdown",
   "id": "6979f06e3d1880e2",
   "metadata": {
    "collapsed": false
   },
   "source": [
    "$$ - \\frac{x}{y} $$\n"
   ]
  },
  {
   "cell_type": "code",
   "execution_count": 35,
   "outputs": [
    {
     "name": "stdout",
     "output_type": "stream",
     "text": [
      "8\n",
      "$$ - \\frac{3}{2} + \\frac{3 \\sqrt{1 + 8 \\pi}}{2} $$\n",
      "$$ - \\frac{3 \\sqrt{1 + 8 \\pi}}{2} - \\frac{3}{2} $$\n"
     ]
    }
   ],
   "source": [
    "from sympy import symbols, solve, pi, sqrt, Rational, Eq\n",
    "\n",
    "r = symbols(\"r\")\n",
    "equation = Eq(r**2 + 3 * r, 18 * pi)\n",
    "\n",
    "r_value = solve(equation, r)\n",
    "\n",
    "print(sqrt(10**2 - 6**2))\n",
    "\n",
    "for val in r_value:\n",
    "    print(f\"$$ {latex(val)} $$\")"
   ],
   "metadata": {
    "collapsed": false,
    "ExecuteTime": {
     "end_time": "2023-08-22T13:17:48.613519Z",
     "start_time": "2023-08-22T13:17:48.602930Z"
    }
   },
   "id": "a93a4384522d7c2e"
  },
  {
   "cell_type": "markdown",
   "id": "3f17f1814926fc9d",
   "metadata": {
    "collapsed": false
   },
   "source": [
    "$$ - \\frac{3}{2} + \\frac{3 \\sqrt{1 + 2 \\pi}}{2} $$\n",
    "$$ - \\frac{3 \\sqrt{1 + 2 \\pi}}{2} - \\frac{3}{2} $$\n"
   ]
  }
 ],
 "metadata": {
  "kernelspec": {
   "display_name": "Python 3",
   "language": "python",
   "name": "python3"
  },
  "language_info": {
   "codemirror_mode": {
    "name": "ipython",
    "version": 3
   },
   "file_extension": ".py",
   "mimetype": "text/x-python",
   "name": "python",
   "nbconvert_exporter": "python",
   "pygments_lexer": "ipython3",
   "version": "3.11.4"
  }
 },
 "nbformat": 4,
 "nbformat_minor": 5
}
