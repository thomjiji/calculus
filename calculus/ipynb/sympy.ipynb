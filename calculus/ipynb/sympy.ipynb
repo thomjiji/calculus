{
 "cells": [
  {
   "cell_type": "code",
   "execution_count": 1,
   "id": "2d492f3d381153db",
   "metadata": {
    "collapsed": false
   },
   "outputs": [
    {
     "name": "stdout",
     "output_type": "stream",
     "text": [
      "5/2\n",
      "$$\\lim_{x \\to a} \\frac{5 x^{4} + x^{2}}{2 x^{4} - x^{3} - 4}$$\n"
     ]
    }
   ],
   "source": [
    "\"\"\"Use sympy to calc limit.\"\"\"\n",
    "\n",
    "from sympy import symbols, limit, latex, oo\n",
    "\n",
    "x = symbols(\"x\")\n",
    "expr = (5 * x ** 4 + x ** 2) / (2 * x ** 4 - x ** 3 - 4)\n",
    "\n",
    "limit_value = limit(expr, x, oo)\n",
    "print(limit_value)\n",
    "\n",
    "latex_code = \"$$\" + \"\\\\lim_{{x \\\\to a}} {}\".format(latex(expr)) + \"$$\"\n",
    "print(latex_code)"
   ]
  },
  {
   "cell_type": "code",
   "execution_count": 102,
   "id": "7e125216008119f8",
   "metadata": {
    "collapsed": false,
    "ExecuteTime": {
     "end_time": "2023-08-17T13:47:58.845858Z",
     "start_time": "2023-08-17T13:47:58.843442Z"
    }
   },
   "outputs": [
    {
     "name": "stdout",
     "output_type": "stream",
     "text": [
      "$$ - \\frac{\\sin{\\left(x \\right)}}{x^{3}} - \\frac{3 \\cos{\\left(x \\right)}}{x^{4}} $$\n"
     ]
    }
   ],
   "source": [
    "from sympy import symbols, diff, latex, cancel, cos, sin\n",
    "\n",
    "x = symbols('x')\n",
    "\n",
    "expr1 = -3 * x * cos(x) - x ** 3 * sin(x)\n",
    "expr2 = x ** 6\n",
    "expr = cos(x) / (x ** 3)\n",
    "\n",
    "# Compute the derivative of the function\n",
    "df = diff(expr, x)\n",
    "\n",
    "expr_sub = expr.subs(x, 1)\n",
    "\n",
    "print(f\"$$ {latex(df)} $$\")"
   ]
  },
  {
   "cell_type": "markdown",
   "source": [
    "$$ - \\frac{\\sin{\\left(x \\right)}}{x^{3}} - \\frac{3 \\cos{\\left(x \\right)}}{x^{4}} $$"
   ],
   "metadata": {
    "collapsed": false
   },
   "id": "56a6edea18890d6c"
  }
 ],
 "metadata": {
  "kernelspec": {
   "display_name": "Python 3",
   "language": "python",
   "name": "python3"
  },
  "language_info": {
   "codemirror_mode": {
    "name": "ipython",
    "version": 2
   },
   "file_extension": ".py",
   "mimetype": "text/x-python",
   "name": "python",
   "nbconvert_exporter": "python",
   "pygments_lexer": "ipython2",
   "version": "2.7.6"
  }
 },
 "nbformat": 4,
 "nbformat_minor": 5
}
