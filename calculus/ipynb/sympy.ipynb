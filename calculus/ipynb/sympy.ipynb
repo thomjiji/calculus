{
 "cells": [
  {
   "cell_type": "code",
   "execution_count": 1,
   "id": "ecd77c27bfc0df80",
   "metadata": {
    "ExecuteTime": {
     "end_time": "2023-08-24T01:07:34.972059Z",
     "start_time": "2023-08-24T01:07:34.966156Z"
    },
    "collapsed": false
   },
   "outputs": [
    {
     "name": "stdout",
     "output_type": "stream",
     "text": [
      "$$ -66 $$\n"
     ]
    }
   ],
   "source": [
    "\"\"\"General block to calculate derivative.\"\"\"\n",
    "\n",
    "from sympy.abc import e\n",
    "from sympy import (\n",
    "    symbols,\n",
    "    diff,\n",
    "    latex,\n",
    "    expand,\n",
    "    cos,\n",
    "    sin,\n",
    "    tan,\n",
    "    ln,\n",
    "    sqrt,\n",
    "    Rational,\n",
    "    log,\n",
    "    simplify,\n",
    "    factor,\n",
    "    pi,\n",
    "    acos,\n",
    "    csc,\n",
    "    sec,\n",
    "    solve,\n",
    "    N,\n",
    "    exp,\n",
    ")\n",
    "\n",
    "x = symbols(\"x\")\n",
    "\n",
    "f = 6**3 - 9 * (6**2) + 7 * 6\n",
    "\n",
    "# Compute the derivative of the function\n",
    "f_prime = diff(f, x)\n",
    "\n",
    "f_subs = f_prime.subs(x, 5)\n",
    "\n",
    "print(f\"$$ {latex(f)} $$\")"
   ]
  },
  {
   "cell_type": "markdown",
   "id": "a07797c7072fb807",
   "metadata": {
    "collapsed": false
   },
   "source": [
    "$$ \\cos{\\left(3 \\right)} $$\n"
   ]
  },
  {
   "cell_type": "code",
   "execution_count": 2,
   "id": "6c7442436d773ae9",
   "metadata": {
    "collapsed": false
   },
   "outputs": [
    {
     "name": "stdout",
     "output_type": "stream",
     "text": [
      "$$ 4 x - 1 $$\n"
     ]
    }
   ],
   "source": [
    "\"\"\"Implicit Differentiation\"\"\"\n",
    "\n",
    "from sympy import symbols, Eq, idiff, latex\n",
    "\n",
    "x, y, t = symbols(\"x y t\")\n",
    "\n",
    "# Define the equation\n",
    "equation = Eq(2 * x**2 - x, y)\n",
    "\n",
    "# Implicitly differentiate the equation with respect to x\n",
    "dy_dx = idiff(equation.lhs - equation.rhs, y, x)\n",
    "\n",
    "dy_dx_subs = dy_dx.subs({x: -1, y: 2})\n",
    "\n",
    "print(f\"$$ {latex(dy_dx)} $$\")"
   ]
  },
  {
   "cell_type": "markdown",
   "id": "6979f06e3d1880e2",
   "metadata": {
    "collapsed": false
   },
   "source": [
    "$$ - \\frac{x}{y} $$\n"
   ]
  },
  {
   "cell_type": "code",
   "execution_count": 3,
   "id": "a93a4384522d7c2e",
   "metadata": {
    "ExecuteTime": {
     "end_time": "2023-08-24T01:08:37.208564Z",
     "start_time": "2023-08-24T01:08:37.202526Z"
    },
    "collapsed": false
   },
   "outputs": [
    {
     "name": "stdout",
     "output_type": "stream",
     "text": [
      "oo\n"
     ]
    }
   ],
   "source": [
    "from sympy import limit, Symbol, oo, exp\n",
    "\n",
    "# define the variable\n",
    "x = Symbol(\"x\")\n",
    "\n",
    "# get the limit\n",
    "lim = limit((4 * x**2 - 7 * x) / ((ln(x))**2), x, oo)\n",
    "\n",
    "print(lim)"
   ]
  },
  {
   "cell_type": "code",
   "execution_count": 4,
   "id": "9219b8e1",
   "metadata": {
    "ExecuteTime": {
     "end_time": "2023-08-24T02:59:20.070940Z",
     "start_time": "2023-08-24T02:59:20.068218Z"
    }
   },
   "outputs": [
    {
     "name": "stdout",
     "output_type": "stream",
     "text": [
      "[6]\n",
      "2 6\n"
     ]
    }
   ],
   "source": [
    "from sympy import symbols, diff\n",
    "from sympy import Eq, solve, sqrt\n",
    "\n",
    "x = symbols(\"x\")\n",
    "h = sqrt(4 * x - 8)\n",
    "h_prime = diff(h, x)\n",
    "\n",
    "h_a = h.subs(x, 3)\n",
    "h_b = h.subs(x, 11)\n",
    "\n",
    "# the average rate of change over the interval [-3, 6]\n",
    "avg_rate = (h_b - h_a) / (11 - 3)\n",
    "\n",
    "# solve f'(c) = avg_rate\n",
    "c = solve(Eq(h_prime, avg_rate), x)\n",
    "print(c)\n",
    "print(h_a, h_b)"
   ]
  },
  {
   "cell_type": "markdown",
   "id": "3f17f1814926fc9d",
   "metadata": {
    "collapsed": false
   },
   "source": [
    "$$ \\left[ 3 - \\frac{\\sqrt{3} i}{3}, \\  3 + \\frac{\\sqrt{3} i}{3}\\right] $$"
   ]
  }
 ],
 "metadata": {
  "kernelspec": {
   "display_name": "Python 3",
   "language": "python",
   "name": "python3"
  },
  "language_info": {
   "codemirror_mode": {
    "name": "ipython",
    "version": 3
   },
   "file_extension": ".py",
   "mimetype": "text/x-python",
   "name": "python",
   "nbconvert_exporter": "python",
   "pygments_lexer": "ipython3",
   "version": "3.11.4"
  }
 },
 "nbformat": 4,
 "nbformat_minor": 5
}
