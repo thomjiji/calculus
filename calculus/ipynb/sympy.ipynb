{
 "cells": [
  {
   "cell_type": "code",
   "execution_count": 70,
   "id": "7e125216008119f8",
   "metadata": {
    "collapsed": false,
    "ExecuteTime": {
     "end_time": "2023-08-21T08:26:55.810188Z",
     "start_time": "2023-08-21T08:26:55.803898Z"
    }
   },
   "outputs": [
    {
     "name": "stdout",
     "output_type": "stream",
     "text": [
      "$$ 4.8 $$\n"
     ]
    }
   ],
   "source": [
    "from sympy import pi, acos, csc, sec\n",
    "\n",
    "\"\"\"General block to calculate derivative.\"\"\"\n",
    "\n",
    "from sympy.abc import e\n",
    "from sympy import symbols, diff, latex, expand, cos, sin, tan, ln, sqrt, Rational, log, simplify, factor\n",
    "\n",
    "x, y = symbols(\"x y\")\n",
    "\n",
    "f = 0.001 * x**3 - 0.15 * x**2 + 7.5 * x\n",
    "\n",
    "# Compute the derivative of the function\n",
    "f_prime = diff(f, x)\n",
    "\n",
    "f_subs = f_prime.subs(x, 10)\n",
    "\n",
    "print(f\"$$ {latex(f_subs)} $$\")"
   ]
  },
  {
   "cell_type": "markdown",
   "id": "a07797c7072fb807",
   "metadata": {
    "collapsed": false
   },
   "source": [
    "$$ 0.003 x^{2} - 0.3 x + 7.5 $$\n"
   ]
  },
  {
   "cell_type": "code",
   "execution_count": 57,
   "id": "6c7442436d773ae9",
   "metadata": {
    "collapsed": false,
    "ExecuteTime": {
     "end_time": "2023-08-21T06:49:06.201258Z",
     "start_time": "2023-08-21T06:49:06.193288Z"
    }
   },
   "outputs": [
    {
     "name": "stdout",
     "output_type": "stream",
     "text": [
      "$$ \\frac{3 x^{2} - y}{x - 4 y} $$\n"
     ]
    }
   ],
   "source": [
    "\"\"\"Implicit Differentiation\"\"\"\n",
    "\n",
    "from sympy import symbols, Eq, idiff, latex\n",
    "\n",
    "x, y = symbols('x y')\n",
    "\n",
    "# Define the equation\n",
    "equation = Eq(x**3 + 2 * (y**2) - x * y, 2)\n",
    "\n",
    "# Implicitly differentiate the equation with respect to x\n",
    "dy_dx = idiff(equation.lhs - equation.rhs, y, x)\n",
    "\n",
    "dy_dx_subs = dy_dx.subs({x: -1, y: 2})\n",
    "\n",
    "print(f\"$$ {latex(dy_dx)} $$\")"
   ]
  },
  {
   "cell_type": "markdown",
   "id": "6979f06e3d1880e2",
   "metadata": {
    "collapsed": false
   },
   "source": [
    "$$ \\frac{3 x^{2} - y}{x - 4 y} $$\n"
   ]
  },
  {
   "cell_type": "code",
   "execution_count": 65,
   "outputs": [
    {
     "name": "stdout",
     "output_type": "stream",
     "text": [
      "$$ 5 e^{5 y{\\left(x \\right)}} \\log{\\left(e \\right)} \\frac{d}{d x} y{\\left(x \\right)} $$\n"
     ]
    }
   ],
   "source": [
    "from sympy import Function, sin, symbols, diff\n",
    "\n",
    "x = symbols('x')\n",
    "y = Function('y')(x)\n",
    "\n",
    "# Given first derivative\n",
    "first_derivative = e**(5 * y)\n",
    "\n",
    "# Second derivative\n",
    "second_derivative = diff(first_derivative, x)\n",
    "\n",
    "print(f\"$$ {latex(second_derivative)} $$\")"
   ],
   "metadata": {
    "collapsed": false,
    "ExecuteTime": {
     "end_time": "2023-08-21T07:52:15.078558Z",
     "start_time": "2023-08-21T07:52:15.074603Z"
    }
   },
   "id": "a0a3332c0ce5ee4b"
  },
  {
   "cell_type": "markdown",
   "source": [
    "$$ 5 e^{5 y{\\left(x \\right)}} \\log{\\left(e \\right)} \\frac{d}{d x} y{\\left(x \\right)} $$\n"
   ],
   "metadata": {
    "collapsed": false
   },
   "id": "1b2738cddc4e27e8"
  }
 ],
 "metadata": {
  "kernelspec": {
   "display_name": "Python 3",
   "language": "python",
   "name": "python3"
  },
  "language_info": {
   "codemirror_mode": {
    "name": "ipython",
    "version": 2
   },
   "file_extension": ".py",
   "mimetype": "text/x-python",
   "name": "python",
   "nbconvert_exporter": "python",
   "pygments_lexer": "ipython2",
   "version": "2.7.6"
  }
 },
 "nbformat": 4,
 "nbformat_minor": 5
}
