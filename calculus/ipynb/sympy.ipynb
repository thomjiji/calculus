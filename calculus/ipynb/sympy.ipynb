{
 "cells": [
  {
   "cell_type": "code",
   "execution_count": 1,
   "id": "ecd77c27bfc0df80",
   "metadata": {
    "ExecuteTime": {
     "end_time": "2023-08-27T09:41:06.113899Z",
     "start_time": "2023-08-27T09:41:06.106273Z"
    },
    "collapsed": false
   },
   "outputs": [
    {
     "name": "stdout",
     "output_type": "stream",
     "text": [
      "$$ \\left[ \\frac{2}{3}\\right] $$\n"
     ]
    }
   ],
   "source": [
    "from sympy import simplify, sin, sqrt\n",
    "from sympy.abc import e\n",
    "\n",
    "\"\"\"General block to calculate derivative.\"\"\"\n",
    "\n",
    "from sympy import (\n",
    "    symbols,\n",
    "    diff,\n",
    "    latex,\n",
    "    solve,\n",
    "    Eq,\n",
    "    root\n",
    ")\n",
    "\n",
    "x = symbols(\"x\")\n",
    "\n",
    "f = 3 * x**2 - 4 * x + 5\n",
    "\n",
    "f_prime = diff(f, x)\n",
    "\n",
    "f_subs = f_prime.subs(x, 2/3)\n",
    "\n",
    "critical_points = solve(Eq(f_prime, 0), x)\n",
    "\n",
    "undefined_points = solve(simplify(1 / f_prime), x)\n",
    "\n",
    "print(f\"$$ {latex(critical_points)} $$\")"
   ]
  },
  {
   "cell_type": "markdown",
   "id": "a07797c7072fb807",
   "metadata": {
    "collapsed": false
   },
   "source": [
    "$$ \\left[ \\frac{2}{3}\\right] $$\n"
   ]
  },
  {
   "cell_type": "code",
   "execution_count": 72,
   "id": "6c7442436d773ae9",
   "metadata": {
    "ExecuteTime": {
     "end_time": "2023-08-26T10:24:06.392661Z",
     "start_time": "2023-08-26T10:24:06.389197Z"
    },
    "collapsed": false
   },
   "outputs": [
    {
     "name": "stdout",
     "output_type": "stream",
     "text": [
      "$$ 4 x - 1 $$\n"
     ]
    }
   ],
   "source": [
    "\"\"\"Implicit Differentiation\"\"\"\n",
    "\n",
    "from sympy import symbols, Eq, idiff, latex\n",
    "\n",
    "x, y, t = symbols(\"x y t\")\n",
    "\n",
    "# Define the equation\n",
    "equation = Eq(2 * x**2 - x, y)\n",
    "\n",
    "# Implicitly differentiate the equation with respect to x\n",
    "dy_dx = idiff(equation.lhs - equation.rhs, y, x)\n",
    "\n",
    "dy_dx_subs = dy_dx.subs({x: -1, y: 2})\n",
    "\n",
    "print(f\"$$ {latex(dy_dx)} $$\")"
   ]
  },
  {
   "cell_type": "markdown",
   "id": "6979f06e3d1880e2",
   "metadata": {
    "collapsed": false
   },
   "source": [
    "$$ - \\frac{x}{y} $$\n"
   ]
  },
  {
   "cell_type": "code",
   "execution_count": 73,
   "id": "a93a4384522d7c2e",
   "metadata": {
    "ExecuteTime": {
     "end_time": "2023-08-26T10:24:06.422012Z",
     "start_time": "2023-08-26T10:24:06.397602Z"
    },
    "collapsed": false
   },
   "outputs": [
    {
     "name": "stdout",
     "output_type": "stream",
     "text": [
      "$$ \\left[ \\frac{1}{2} - \\frac{\\sqrt{15} i}{2}, \\  \\frac{1}{2} + \\frac{\\sqrt{15} i}{2}\\right] $$\n"
     ]
    }
   ],
   "source": [
    "\"\"\"Calculate the limit\"\"\"\n",
    "\n",
    "from sympy import Symbol\n",
    "\n",
    "# define the variable\n",
    "x = Symbol(\"x\")\n",
    "\n",
    "# get the limit\n",
    "x = solve(Eq(x**2 - x + 4, 0))\n",
    "\n",
    "print(f\"$$ {latex(x)} $$\")"
   ]
  },
  {
   "cell_type": "markdown",
   "id": "35a78aad42d6e6db",
   "metadata": {
    "collapsed": false
   },
   "source": [
    "$$ \\left[ -2, \\  0, \\  2\\right] $$\n"
   ]
  }
 ],
 "metadata": {
  "kernelspec": {
   "display_name": "Python 3",
   "language": "python",
   "name": "python3"
  },
  "language_info": {
   "codemirror_mode": {
    "name": "ipython",
    "version": 3
   },
   "file_extension": ".py",
   "mimetype": "text/x-python",
   "name": "python",
   "nbconvert_exporter": "python",
   "pygments_lexer": "ipython3",
   "version": "3.11.5"
  }
 },
 "nbformat": 4,
 "nbformat_minor": 5
}
