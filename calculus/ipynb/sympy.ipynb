{
 "cells": [
  {
   "cell_type": "code",
   "execution_count": 1,
   "outputs": [
    {
     "name": "stdout",
     "output_type": "stream",
     "text": [
      "5/2\n",
      "$$\\lim_{x \\to a} \\frac{5 x^{4} + x^{2}}{2 x^{4} - x^{3} - 4}$$\n"
     ]
    }
   ],
   "source": [
    "\"\"\"Use sympy to calc limit.\"\"\"\n",
    "\n",
    "from sympy import symbols, limit, latex, oo\n",
    "\n",
    "x = symbols(\"x\")\n",
    "expr = (5 * x ** 4 + x ** 2) / (2 * x ** 4 - x ** 3 - 4)\n",
    "\n",
    "limit_value = limit(expr, x, oo)\n",
    "print(limit_value)\n",
    "\n",
    "latex_code = \"$$\" + \"\\\\lim_{{x \\\\to a}} {}\".format(latex(expr)) + \"$$\"\n",
    "print(latex_code)"
   ],
   "metadata": {
    "collapsed": false
   },
   "id": "2d492f3d381153db"
  },
  {
   "cell_type": "code",
   "execution_count": 3,
   "outputs": [
    {
     "name": "stdout",
     "output_type": "stream",
     "text": [
      "6 x^{5} + 12 x^{3} + 14 x\n"
     ]
    }
   ],
   "source": [
    "from sympy import symbols, diff, latex\n",
    "\n",
    "# Define the variable\n",
    "x = symbols('x')\n",
    "\n",
    "# Define the polynomial\n",
    "polynomial = x**6 + 3*x**4 + 7*x**2\n",
    "\n",
    "# Calculate the derivative\n",
    "derivative = diff(polynomial, x)\n",
    "\n",
    "latex_expr = latex(derivative)\n",
    "\n",
    "# Print the derivative\n",
    "print(latex_expr)"
   ],
   "metadata": {
    "collapsed": false,
    "ExecuteTime": {
     "end_time": "2023-08-16T13:45:53.124209Z",
     "start_time": "2023-08-16T13:45:53.118765Z"
    }
   },
   "id": "7e125216008119f8"
  }
 ],
 "metadata": {
  "kernelspec": {
   "display_name": "Python 3",
   "language": "python",
   "name": "python3"
  },
  "language_info": {
   "codemirror_mode": {
    "name": "ipython",
    "version": 2
   },
   "file_extension": ".py",
   "mimetype": "text/x-python",
   "name": "python",
   "nbconvert_exporter": "python",
   "pygments_lexer": "ipython2",
   "version": "2.7.6"
  }
 },
 "nbformat": 4,
 "nbformat_minor": 5
}
