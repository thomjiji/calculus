{
 "cells": [
  {
   "cell_type": "code",
   "execution_count": 1,
   "id": "2d492f3d381153db",
   "metadata": {
    "collapsed": false
   },
   "outputs": [
    {
     "name": "stdout",
     "output_type": "stream",
     "text": [
      "5/2\n",
      "$$\\lim_{x \\to a} \\frac{5 x^{4} + x^{2}}{2 x^{4} - x^{3} - 4}$$\n"
     ]
    }
   ],
   "source": [
    "\"\"\"Use sympy to calc limit.\"\"\"\n",
    "\n",
    "from sympy import symbols, limit, latex, oo\n",
    "\n",
    "x = symbols(\"x\")\n",
    "expr = (5 * x**4 + x**2) / (2 * x**4 - x**3 - 4)\n",
    "\n",
    "limit_value = limit(expr, x, oo)\n",
    "print(limit_value)\n",
    "\n",
    "latex_code = \"$$\" + \"\\\\lim_{{x \\\\to a}} {}\".format(latex(expr)) + \"$$\"\n",
    "print(latex_code)"
   ]
  },
  {
   "cell_type": "code",
   "execution_count": 129,
   "id": "7e125216008119f8",
   "metadata": {
    "collapsed": false,
    "ExecuteTime": {
     "end_time": "2023-08-18T07:35:28.168089Z",
     "start_time": "2023-08-18T07:35:28.165502Z"
    }
   },
   "outputs": [
    {
     "name": "stdout",
     "output_type": "stream",
     "text": [
      "$$ - \\frac{1}{x^{2}} $$\n"
     ]
    }
   ],
   "source": [
    "from sympy.abc import e\n",
    "from sympy import symbols, diff, latex, pi, cos, cot, sin, ln, sqrt, collect, simplify, expand, tan, log, Rational\n",
    "\n",
    "x = symbols(\"x\")\n",
    "\n",
    "f = 1/x\n",
    "\n",
    "# Compute the derivative of the function\n",
    "f_prime = diff(f, x)\n",
    "\n",
    "f_subs = f.subs(x, -2)\n",
    "\n",
    "print(f\"$$ {latex(f_prime)} $$\")"
   ]
  },
  {
   "cell_type": "markdown",
   "source": [
    "$$ - \\frac{1}{x^{2}} $$\n"
   ],
   "metadata": {
    "collapsed": false
   },
   "id": "63bcdd17fb28ea25"
  }
 ],
 "metadata": {
  "kernelspec": {
   "display_name": "Python 3",
   "language": "python",
   "name": "python3"
  },
  "language_info": {
   "codemirror_mode": {
    "name": "ipython",
    "version": 2
   },
   "file_extension": ".py",
   "mimetype": "text/x-python",
   "name": "python",
   "nbconvert_exporter": "python",
   "pygments_lexer": "ipython2",
   "version": "2.7.6"
  }
 },
 "nbformat": 4,
 "nbformat_minor": 5
}
