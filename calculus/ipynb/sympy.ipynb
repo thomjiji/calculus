{
 "cells": [
  {
   "cell_type": "code",
   "execution_count": 19,
   "id": "ecd77c27bfc0df80",
   "metadata": {
    "collapsed": false,
    "ExecuteTime": {
     "end_time": "2023-08-24T12:34:26.492605Z",
     "start_time": "2023-08-24T12:34:26.487051Z"
    }
   },
   "outputs": [
    {
     "name": "stdout",
     "output_type": "stream",
     "text": [
      "$$ \\left[ 0\\right] $$\n"
     ]
    }
   ],
   "source": [
    "\"\"\"General block to calculate derivative.\"\"\"\n",
    "\n",
    "from sympy import symbols, diff, latex, ln, solve, Eq, solveset, sqrt, S\n",
    "\n",
    "x = symbols(\"x\")\n",
    "\n",
    "f = x / (x + 3)\n",
    "\n",
    "f_prime = diff(f, x)\n",
    "\n",
    "f_sub = f_prime.subs(x, 1)\n",
    "\n",
    "critical_points = solve(Eq(f_prime, 0), x)\n",
    "\n",
    "undefined_points = solveset(Eq(f_prime, S.NaN), x)\n",
    "\n",
    "print(f\"$$ {latex(critical_points)} $$\")"
   ]
  },
  {
   "cell_type": "markdown",
   "id": "a07797c7072fb807",
   "metadata": {
    "collapsed": false
   },
   "source": [
    "$$ \\left[ 0\\right] $$\n"
   ]
  },
  {
   "cell_type": "code",
   "execution_count": null,
   "id": "6c7442436d773ae9",
   "metadata": {
    "collapsed": false
   },
   "outputs": [],
   "source": [
    "\"\"\"Implicit Differentiation\"\"\"\n",
    "\n",
    "from sympy import symbols, Eq, idiff, latex\n",
    "\n",
    "x, y, t = symbols(\"x y t\")\n",
    "\n",
    "# Define the equation\n",
    "equation = Eq(2 * x**2 - x, y)\n",
    "\n",
    "# Implicitly differentiate the equation with respect to x\n",
    "dy_dx = idiff(equation.lhs - equation.rhs, y, x)\n",
    "\n",
    "dy_dx_subs = dy_dx.subs({x: -1, y: 2})\n",
    "\n",
    "print(f\"$$ {latex(dy_dx)} $$\")"
   ]
  },
  {
   "cell_type": "markdown",
   "id": "6979f06e3d1880e2",
   "metadata": {
    "collapsed": false
   },
   "source": [
    "$$ - \\frac{x}{y} $$\n"
   ]
  },
  {
   "cell_type": "code",
   "execution_count": null,
   "id": "a93a4384522d7c2e",
   "metadata": {
    "ExecuteTime": {
     "end_time": "2023-08-24T01:08:37.208564Z",
     "start_time": "2023-08-24T01:08:37.202526Z"
    },
    "collapsed": false
   },
   "outputs": [],
   "source": [
    "\"\"\"Calculate the limit\"\"\"\n",
    "\n",
    "from sympy import limit, Symbol, oo\n",
    "\n",
    "# define the variable\n",
    "x = Symbol(\"x\")\n",
    "\n",
    "# get the limit\n",
    "lim = limit((4 * x**2 - 7 * x) / ((ln(x))**2), x, oo)\n",
    "\n",
    "print(lim)"
   ]
  },
  {
   "cell_type": "markdown",
   "id": "3f17f1814926fc9d",
   "metadata": {
    "collapsed": false
   },
   "source": [
    "$$ \\left[ 0, \\  1\\right] $$\n"
   ]
  }
 ],
 "metadata": {
  "kernelspec": {
   "display_name": "Python 3",
   "language": "python",
   "name": "python3"
  },
  "language_info": {
   "codemirror_mode": {
    "name": "ipython",
    "version": 3
   },
   "file_extension": ".py",
   "mimetype": "text/x-python",
   "name": "python",
   "nbconvert_exporter": "python",
   "pygments_lexer": "ipython3",
   "version": "3.11.4"
  }
 },
 "nbformat": 4,
 "nbformat_minor": 5
}
