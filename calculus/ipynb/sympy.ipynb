{
 "cells": [
  {
   "cell_type": "code",
   "execution_count": 1,
   "outputs": [
    {
     "name": "stdout",
     "output_type": "stream",
     "text": [
      "5/2\n",
      "$$\\lim_{x \\to a} \\frac{5 x^{4} + x^{2}}{2 x^{4} - x^{3} - 4}$$\n"
     ]
    }
   ],
   "source": [
    "\"\"\"Use sympy to calc limit.\"\"\"\n",
    "\n",
    "from sympy import symbols, limit, latex, oo\n",
    "\n",
    "x = symbols(\"x\")\n",
    "expr = (5 * x ** 4 + x ** 2) / (2 * x ** 4 - x ** 3 - 4)\n",
    "\n",
    "limit_value = limit(expr, x, oo)\n",
    "print(limit_value)\n",
    "\n",
    "latex_code = \"$$\" + \"\\\\lim_{{x \\\\to a}} {}\".format(latex(expr)) + \"$$\"\n",
    "print(latex_code)"
   ],
   "metadata": {
    "collapsed": false
   },
   "id": "2d492f3d381153db"
  },
  {
   "cell_type": "code",
   "execution_count": 2,
   "outputs": [
    {
     "name": "stdout",
     "output_type": "stream",
     "text": [
      "-1/10\n"
     ]
    }
   ],
   "source": [
    "from sympy import *\n",
    "\n",
    "# Define the numbers as Rational objects\n",
    "a = Rational(3, 10)\n",
    "b = Rational(2, 5)\n",
    "\n",
    "# Perform the subtraction\n",
    "result = a - b\n",
    "\n",
    "# Print the result\n",
    "print(result)"
   ],
   "metadata": {
    "collapsed": false
   },
   "id": "7e125216008119f8"
  }
 ],
 "metadata": {
  "kernelspec": {
   "display_name": "Python 3",
   "language": "python",
   "name": "python3"
  },
  "language_info": {
   "codemirror_mode": {
    "name": "ipython",
    "version": 2
   },
   "file_extension": ".py",
   "mimetype": "text/x-python",
   "name": "python",
   "nbconvert_exporter": "python",
   "pygments_lexer": "ipython2",
   "version": "2.7.6"
  }
 },
 "nbformat": 4,
 "nbformat_minor": 5
}
