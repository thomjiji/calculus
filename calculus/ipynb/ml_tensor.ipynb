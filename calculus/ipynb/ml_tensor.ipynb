{
 "cells": [
  {
   "cell_type": "code",
   "execution_count": 12,
   "metadata": {
    "ExecuteTime": {
     "end_time": "2023-08-27T02:56:49.969490Z",
     "start_time": "2023-08-27T02:56:49.933993Z"
    }
   },
   "outputs": [
    {
     "name": "stdout",
     "output_type": "stream",
     "text": [
      "tensor([[ 0.,  1.,  2.,  3.],\n",
      "        [ 4.,  5.,  6.,  7.],\n",
      "        [ 8.,  9., 10., 11.]])\n",
      "tensor([ 8.,  9., 10., 11.])\n",
      "tensor([[ 4.,  5.,  6.,  7.],\n",
      "        [ 8.,  9., 10., 11.]])\n",
      "tensor([[[ 0.,  1.,  2.,  3.],\n",
      "         [ 4.,  5.,  6.,  7.],\n",
      "         [ 8.,  9., 10., 11.]],\n",
      "\n",
      "        [[12., 13., 14., 15.],\n",
      "         [16., 17., 18., 19.],\n",
      "         [20., 21., 22., 23.]]]) tensor([[[48., 49., 50.],\n",
      "         [51., 52., 53.],\n",
      "         [54., 55., 56.],\n",
      "         [57., 58., 59.]],\n",
      "\n",
      "        [[60., 61., 62.],\n",
      "         [63., 64., 65.],\n",
      "         [66., 67., 68.],\n",
      "         [69., 70., 71.]]])\n"
     ]
    }
   ],
   "source": [
    "import torch\n",
    "\n",
    "x = torch.arange(12, dtype=torch.float32)\n",
    "x.shape\n",
    "\n",
    "X = x.reshape(3, -1)\n",
    "\n",
    "print(X)\n",
    "\n",
    "torch.zeros((2, 3, 4))\n",
    "\n",
    "torch.tensor([[2, 1, 4, 3], [1, 2, 3, 4], [4, 3, 2, 1]])\n",
    "\n",
    "print(X[-1], X[1:3], sep=\"\\n\")\n",
    "\n",
    "X[1, 2] = 17\n",
    "\n",
    "X[:2, :] = 12\n",
    "\n",
    "torch.exp(x)\n",
    "\n",
    "X = torch.arange(24, dtype=torch.float32).reshape((2, 3, 4))\n",
    "Y = torch.arange(24, 48, dtype=torch.float32).reshape((2, 3, 4))\n",
    "Z = torch.arange(48, 72, dtype=torch.float32).reshape((2, 4, 3))\n",
    "\n",
    "print(X, Z)\n",
    "\n",
    "tensor = torch.tensor([[[1, 2, 3]], [[4, 5, 6]]])"
   ]
  },
  {
   "cell_type": "code",
   "execution_count": 13,
   "metadata": {
    "ExecuteTime": {
     "end_time": "2023-08-27T02:56:49.970374Z",
     "start_time": "2023-08-27T02:56:49.940768Z"
    }
   },
   "outputs": [],
   "source": [
    "import os\n",
    "\n",
    "# os.makedirs(os.path.join(\"..\", \"data\"), exist_ok=True)\n",
    "data_file = os.path.join(\"/Users/thom/\", \"repos/d2l/d2l_exercises/data\", \"house_tiny.csv\")\n",
    "with open(data_file, \"w\") as f:\n",
    "    f.write(\n",
    "        \"\"\"NumRooms,RoofType,Price\n",
    "NA,NA,127500\n",
    "2,NA,106000\n",
    "4,Slate,178100\n",
    "NA,NA,140000\"\"\"\n",
    "    )"
   ]
  },
  {
   "cell_type": "code",
   "execution_count": 14,
   "metadata": {
    "ExecuteTime": {
     "end_time": "2023-08-27T02:56:50.008392Z",
     "start_time": "2023-08-27T02:56:49.944013Z"
    }
   },
   "outputs": [
    {
     "ename": "AttributeError",
     "evalue": "partially initialized module 'pandas' has no attribute 'core' (most likely due to a circular import)",
     "output_type": "error",
     "traceback": [
      "\u001B[0;31m---------------------------------------------------------------------------\u001B[0m",
      "\u001B[0;31mAttributeError\u001B[0m                            Traceback (most recent call last)",
      "Cell \u001B[0;32mIn[14], line 1\u001B[0m\n\u001B[0;32m----> 1\u001B[0m \u001B[38;5;28;01mimport\u001B[39;00m \u001B[38;5;21;01mpandas\u001B[39;00m \u001B[38;5;28;01mas\u001B[39;00m \u001B[38;5;21;01mpd\u001B[39;00m\n\u001B[1;32m      3\u001B[0m data \u001B[38;5;241m=\u001B[39m pd\u001B[38;5;241m.\u001B[39mread_csv(data_file)\n\u001B[1;32m      5\u001B[0m \u001B[38;5;28mprint\u001B[39m(data)\n",
      "File \u001B[0;32m~/code/calculus/.venv/lib/python3.11/site-packages/pandas/__init__.py:138\u001B[0m\n\u001B[1;32m    120\u001B[0m \u001B[38;5;28;01mfrom\u001B[39;00m \u001B[38;5;21;01mpandas\u001B[39;00m\u001B[38;5;21;01m.\u001B[39;00m\u001B[38;5;21;01mcore\u001B[39;00m\u001B[38;5;21;01m.\u001B[39;00m\u001B[38;5;21;01mreshape\u001B[39;00m\u001B[38;5;21;01m.\u001B[39;00m\u001B[38;5;21;01mapi\u001B[39;00m \u001B[38;5;28;01mimport\u001B[39;00m (\n\u001B[1;32m    121\u001B[0m     concat,\n\u001B[1;32m    122\u001B[0m     lreshape,\n\u001B[0;32m   (...)\u001B[0m\n\u001B[1;32m    134\u001B[0m     qcut,\n\u001B[1;32m    135\u001B[0m )\n\u001B[1;32m    137\u001B[0m \u001B[38;5;28;01mfrom\u001B[39;00m \u001B[38;5;21;01mpandas\u001B[39;00m \u001B[38;5;28;01mimport\u001B[39;00m api, arrays, errors, io, plotting, tseries\n\u001B[0;32m--> 138\u001B[0m \u001B[38;5;28;01mfrom\u001B[39;00m \u001B[38;5;21;01mpandas\u001B[39;00m \u001B[38;5;28;01mimport\u001B[39;00m testing\n\u001B[1;32m    139\u001B[0m \u001B[38;5;28;01mfrom\u001B[39;00m \u001B[38;5;21;01mpandas\u001B[39;00m\u001B[38;5;21;01m.\u001B[39;00m\u001B[38;5;21;01mutil\u001B[39;00m\u001B[38;5;21;01m.\u001B[39;00m\u001B[38;5;21;01m_print_versions\u001B[39;00m \u001B[38;5;28;01mimport\u001B[39;00m show_versions\n\u001B[1;32m    141\u001B[0m \u001B[38;5;28;01mfrom\u001B[39;00m \u001B[38;5;21;01mpandas\u001B[39;00m\u001B[38;5;21;01m.\u001B[39;00m\u001B[38;5;21;01mio\u001B[39;00m\u001B[38;5;21;01m.\u001B[39;00m\u001B[38;5;21;01mapi\u001B[39;00m \u001B[38;5;28;01mimport\u001B[39;00m (\n\u001B[1;32m    142\u001B[0m     \u001B[38;5;66;03m# excel\u001B[39;00m\n\u001B[1;32m    143\u001B[0m     ExcelFile,\n\u001B[0;32m   (...)\u001B[0m\n\u001B[1;32m    171\u001B[0m     read_spss,\n\u001B[1;32m    172\u001B[0m )\n",
      "File \u001B[0;32m~/code/calculus/.venv/lib/python3.11/site-packages/pandas/testing.py:6\u001B[0m\n\u001B[1;32m      1\u001B[0m \u001B[38;5;124;03m\"\"\"\u001B[39;00m\n\u001B[1;32m      2\u001B[0m \u001B[38;5;124;03mPublic testing utility functions.\u001B[39;00m\n\u001B[1;32m      3\u001B[0m \u001B[38;5;124;03m\"\"\"\u001B[39;00m\n\u001B[0;32m----> 6\u001B[0m \u001B[38;5;28;01mfrom\u001B[39;00m \u001B[38;5;21;01mpandas\u001B[39;00m\u001B[38;5;21;01m.\u001B[39;00m\u001B[38;5;21;01m_testing\u001B[39;00m \u001B[38;5;28;01mimport\u001B[39;00m (\n\u001B[1;32m      7\u001B[0m     assert_extension_array_equal,\n\u001B[1;32m      8\u001B[0m     assert_frame_equal,\n\u001B[1;32m      9\u001B[0m     assert_index_equal,\n\u001B[1;32m     10\u001B[0m     assert_series_equal,\n\u001B[1;32m     11\u001B[0m )\n\u001B[1;32m     13\u001B[0m __all__ \u001B[38;5;241m=\u001B[39m [\n\u001B[1;32m     14\u001B[0m     \u001B[38;5;124m\"\u001B[39m\u001B[38;5;124massert_extension_array_equal\u001B[39m\u001B[38;5;124m\"\u001B[39m,\n\u001B[1;32m     15\u001B[0m     \u001B[38;5;124m\"\u001B[39m\u001B[38;5;124massert_frame_equal\u001B[39m\u001B[38;5;124m\"\u001B[39m,\n\u001B[1;32m     16\u001B[0m     \u001B[38;5;124m\"\u001B[39m\u001B[38;5;124massert_series_equal\u001B[39m\u001B[38;5;124m\"\u001B[39m,\n\u001B[1;32m     17\u001B[0m     \u001B[38;5;124m\"\u001B[39m\u001B[38;5;124massert_index_equal\u001B[39m\u001B[38;5;124m\"\u001B[39m,\n\u001B[1;32m     18\u001B[0m ]\n",
      "File \u001B[0;32m~/code/calculus/.venv/lib/python3.11/site-packages/pandas/_testing/__init__.py:914\u001B[0m\n\u001B[1;32m    909\u001B[0m     \u001B[38;5;28;01mimport\u001B[39;00m \u001B[38;5;21;01mpytest\u001B[39;00m\n\u001B[1;32m    911\u001B[0m     \u001B[38;5;28;01mreturn\u001B[39;00m pytest\u001B[38;5;241m.\u001B[39mraises(expected_exception, match\u001B[38;5;241m=\u001B[39m\u001B[38;5;28;01mNone\u001B[39;00m)\n\u001B[0;32m--> 914\u001B[0m cython_table \u001B[38;5;241m=\u001B[39m \u001B[43mpd\u001B[49m\u001B[38;5;241;43m.\u001B[39;49m\u001B[43mcore\u001B[49m\u001B[38;5;241m.\u001B[39mcommon\u001B[38;5;241m.\u001B[39m_cython_table\u001B[38;5;241m.\u001B[39mitems()\n\u001B[1;32m    917\u001B[0m \u001B[38;5;28;01mdef\u001B[39;00m \u001B[38;5;21mget_cython_table_params\u001B[39m(ndframe, func_names_and_expected):\n\u001B[1;32m    918\u001B[0m \u001B[38;5;250m    \u001B[39m\u001B[38;5;124;03m\"\"\"\u001B[39;00m\n\u001B[1;32m    919\u001B[0m \u001B[38;5;124;03m    Combine frame, functions from com._cython_table\u001B[39;00m\n\u001B[1;32m    920\u001B[0m \u001B[38;5;124;03m    keys and expected result.\u001B[39;00m\n\u001B[0;32m   (...)\u001B[0m\n\u001B[1;32m    932\u001B[0m \u001B[38;5;124;03m        List of three items (DataFrame, function, expected result)\u001B[39;00m\n\u001B[1;32m    933\u001B[0m \u001B[38;5;124;03m    \"\"\"\u001B[39;00m\n",
      "\u001B[0;31mAttributeError\u001B[0m: partially initialized module 'pandas' has no attribute 'core' (most likely due to a circular import)"
     ]
    }
   ],
   "source": [
    "import pandas as pd\n",
    "\n",
    "data = pd.read_csv(data_file)\n",
    "\n",
    "print(data)\n",
    "\n",
    "inputs, targets = data.iloc[:, 0:2], data.iloc[:, 2]\n",
    "inputs = pd.get_dummies(inputs, dummy_na=True)\n",
    "print(inputs)\n",
    "\n",
    "inputs = inputs.fillna(inputs.mean())\n",
    "print(inputs)"
   ]
  },
  {
   "cell_type": "code",
   "execution_count": null,
   "metadata": {
    "ExecuteTime": {
     "end_time": "2023-08-27T02:56:50.013346Z",
     "start_time": "2023-08-27T02:56:50.010225Z"
    }
   },
   "outputs": [],
   "source": [
    "import pandas as pd\n",
    "\n",
    "data = pd.read_csv(\"data/house_tiny.csv\")\n",
    "\n",
    "print(data)\n",
    "\n",
    "inputs, targets = data.iloc[:, 0:2], data.iloc[:, 2]\n",
    "inputs = pd.get_dummies(inputs, dummy_na=True)\n",
    "print(inputs)\n",
    "\n",
    "inputs = inputs.fillna(inputs.mean())\n",
    "print(inputs)"
   ]
  },
  {
   "cell_type": "code",
   "execution_count": null,
   "metadata": {
    "ExecuteTime": {
     "start_time": "2023-08-27T02:56:50.011506Z"
    }
   },
   "outputs": [],
   "source": [
    "A = torch.arange(6, dtype=torch.float32).reshape(2, 3)\n",
    "B = A.clone()  # Assign a copy of A to B by allocating new memory\n",
    "print(A)\n",
    "\n",
    "sum_A = A.sum(dim=1, keepdim=True)\n",
    "print(sum_A)\n",
    "\n",
    "test_b = torch.tensor(\n",
    "    [\n",
    "        [\n",
    "            3,\n",
    "            3,\n",
    "            3,\n",
    "        ],\n",
    "        [12, 12, 12],\n",
    "    ],\n",
    "    dtype=torch.float32,\n",
    ")\n",
    "print(test_b)\n",
    "\n",
    "print(A / sum_A)\n",
    "print(A / test_b)\n",
    "\n",
    "A.cumsum(dim=0)"
   ]
  },
  {
   "cell_type": "code",
   "execution_count": null,
   "metadata": {
    "ExecuteTime": {
     "start_time": "2023-08-27T02:56:50.012777Z"
    }
   },
   "outputs": [],
   "source": [
    "x = torch.arange(3, dtype=torch.float32)\n",
    "y = torch.ones(3, dtype=torch.float32)\n",
    "print(x, y, torch.dot(x, y), sep=\"\\n\")\n",
    "\n",
    "torch.sum(x * y)"
   ]
  },
  {
   "cell_type": "code",
   "execution_count": null,
   "metadata": {
    "ExecuteTime": {
     "start_time": "2023-08-27T02:56:50.013968Z"
    }
   },
   "outputs": [],
   "source": [
    "A.shape, x.shape, torch.mv(A, x), A @ x"
   ]
  },
  {
   "cell_type": "code",
   "execution_count": null,
   "metadata": {
    "ExecuteTime": {
     "start_time": "2023-08-27T02:56:50.015315Z"
    }
   },
   "outputs": [],
   "source": [
    "A = torch.tensor([[1, 2, 3], [4, 5, 6], [7, 8, 9]])\n",
    "B = torch.tensor([[10, 11, 12], [13, 14, 15], [16, 17, 18]])\n",
    "\n",
    "print(\"Origin:\")\n",
    "print(A, B, end=\"\\n\\n\", sep=\"\\n\")\n",
    "\n",
    "print(\"Transposed:\")\n",
    "print(A.T, B.T, end=\"\\n\\n\", sep=\"\\n\")\n",
    "\n",
    "print(\"Transposed before sum:\")\n",
    "print(A.T + B.T, end=\"\\n\\n\", sep=\"\\n\")\n",
    "\n",
    "print(\"Transposed after sum:\")\n",
    "print((A + B).T, end=\"\\n\\n\", sep=\"\\n\")"
   ]
  },
  {
   "cell_type": "code",
   "execution_count": null,
   "metadata": {
    "ExecuteTime": {
     "start_time": "2023-08-27T02:56:50.016440Z"
    }
   },
   "outputs": [],
   "source": [
    "(A + A.T) == (A + A.T).T"
   ]
  },
  {
   "cell_type": "code",
   "execution_count": null,
   "metadata": {
    "ExecuteTime": {
     "start_time": "2023-08-27T02:56:50.017598Z"
    }
   },
   "outputs": [],
   "source": [
    "X = torch.arange(24).reshape(2, 3, 4)\n",
    "print(X)\n",
    "X.sum(dim=0)"
   ]
  },
  {
   "cell_type": "code",
   "execution_count": null,
   "metadata": {
    "ExecuteTime": {
     "start_time": "2023-08-27T02:56:50.018712Z"
    }
   },
   "outputs": [],
   "source": [
    "print(\"Original tensor:\")\n",
    "print(A)\n",
    "print()\n",
    "\n",
    "print(\"Summed up along dim 1 (column):\")\n",
    "print(A.sum(dim=1))\n",
    "print()\n",
    "\n",
    "print(\"The result:\")\n",
    "print(A / A.sum(dim=1))"
   ]
  },
  {
   "cell_type": "code",
   "execution_count": null,
   "metadata": {
    "ExecuteTime": {
     "start_time": "2023-08-27T02:56:50.019393Z"
    }
   },
   "outputs": [],
   "source": [
    "X = torch.arange(24).reshape(2, 3, 4)\n",
    "\n",
    "print(X, end=\"\\n\\n\")\n",
    "\n",
    "print(X.sum(dim=0).shape)\n",
    "print(X.sum(dim=1).shape)\n",
    "print(X.sum(dim=2).shape)"
   ]
  },
  {
   "cell_type": "code",
   "execution_count": null,
   "metadata": {
    "ExecuteTime": {
     "start_time": "2023-08-27T02:56:50.020074Z"
    }
   },
   "outputs": [],
   "source": [
    "import math\n",
    "\n",
    "S = torch.arange(4).reshape(2, 2).float()  # create a simple two-dim tensor\n",
    "print(torch.linalg.norm(S))  # calc norm of it\n",
    "print(math.sqrt(0**2 + 1**2 + 2**2 + 3**2))  # calc norm using plain mathematics\n",
    "\n",
    "J = torch.arange(48).reshape(2, 3, 4, 2).float()  # create a complex 4-dim tensor\n",
    "print(torch.linalg.norm(J))  # calc norm of it\n",
    "print(\n",
    "    math.sqrt(sum(i**2 for i in range(48)))\n",
    ")  # calc norm using plain mathematics, which is not ideal"
   ]
  },
  {
   "cell_type": "code",
   "execution_count": null,
   "metadata": {
    "ExecuteTime": {
     "start_time": "2023-08-27T02:56:50.020763Z"
    }
   },
   "outputs": [],
   "source": [
    "import time\n",
    "\n",
    "# Set the random seed for reproducibility\n",
    "torch.manual_seed(0)\n",
    "\n",
    "# Initialize the matrices\n",
    "A = torch.randn(2**10, 2**16)\n",
    "B = torch.randn(2**16, 2**5)\n",
    "C = torch.randn(2**5, 2**14)\n",
    "\n",
    "# measure the time used for running `(A @ B) @ C`\n",
    "start_time = time.time()\n",
    "# result_1 = (A @ B) @ C\n",
    "end_time = time.time()\n",
    "time_taken_1 = end_time - start_time\n",
    "print(f\"Time taken for (A @ B) @ C: {time_taken_1} seconds\")\n",
    "\n",
    "# measure the time used for running `A @ (B @ C)`\n",
    "start_time = time.time()\n",
    "# result_2 = A @ (B @ C)\n",
    "end_time = time.time()\n",
    "time_taken_2 = end_time - start_time\n",
    "print(f\"Time taken for A @ (B @ C): {time_taken_2} seconds\")"
   ]
  },
  {
   "cell_type": "code",
   "execution_count": null,
   "metadata": {
    "ExecuteTime": {
     "start_time": "2023-08-27T02:56:50.021516Z"
    }
   },
   "outputs": [],
   "source": [
    "import time\n",
    "\n",
    "# The simplified case\n",
    "\n",
    "a = torch.arange(24).reshape(4, 6)\n",
    "b = torch.arange(24, 36).reshape(6, 2)\n",
    "c = torch.arange(36, 48).reshape(2, 6)\n",
    "\n",
    "print(a, b, c, sep=\"\\n\")\n",
    "print(a @ b)\n",
    "\n",
    "A = torch.randn((2**10, 2**16))\n",
    "B = torch.randn((2**16, 2**5))\n",
    "C = torch.randn((2**5, 2**16))\n",
    "\n",
    "start_time = time.perf_counter()\n",
    "result_a = A @ B\n",
    "time_taken = time.perf_counter() - start_time\n",
    "print(f\"The code took {time_taken} seconds to run.\")\n",
    "\n",
    "start_time = time.perf_counter()\n",
    "result_b = A @ C.T\n",
    "time_taken = time.perf_counter() - start_time\n",
    "print(f\"The code took {time_taken} seconds to run.\")"
   ]
  },
  {
   "cell_type": "code",
   "execution_count": null,
   "metadata": {
    "ExecuteTime": {
     "start_time": "2023-08-27T02:56:50.022215Z"
    }
   },
   "outputs": [],
   "source": [
    "A = torch.randn(100, 200)\n",
    "B = torch.randn(100, 200)\n",
    "C = torch.randn(100, 200)\n",
    "\n",
    "# stack A, B and C\n",
    "T = torch.stack((A, B, C))\n",
    "\n",
    "# slice out to recover B, as you can see they are equal.\n",
    "B == T[1]"
   ]
  },
  {
   "cell_type": "code",
   "execution_count": null,
   "outputs": [],
   "source": [
    "import numpy as np\n",
    "from sklearn.metrics import mean_squared_error\n",
    "\n",
    "\n",
    "# Let's say our model is a simple linear regression model y = mx + c\n",
    "def model(x, m, c):\n",
    "    return m * x + c\n",
    "\n",
    "\n",
    "# And our loss function is Mean Squared Error\n",
    "def loss(y_actual, y_predicted):\n",
    "    return mean_squared_error(y_actual, y_predicted)\n",
    "\n",
    "\n",
    "# Let's say our input dataset is:\n",
    "x_data = np.array([1, 2, 3, 4, 5])\n",
    "y_data = np.array([2.2, 2.9, 3.9, 5.1, 6.1])\n",
    "\n",
    "# Initialize our model's parameters\n",
    "m = 1.0  # slope\n",
    "c = 0.0  # intercept\n",
    "\n",
    "# Make initial prediction\n",
    "y_predicted = model(x_data, m, c)\n",
    "\n",
    "# Calculate the loss\n",
    "initial_loss = loss(y_data, y_predicted)\n",
    "\n",
    "print(f'Initial Loss: {initial_loss}')\n",
    "\n",
    "# Let's apply Gradient Descent\n",
    "learning_rate = 0.01\n",
    "num_iterations = 1_000\n",
    "\n",
    "for i in range(num_iterations):\n",
    "    # Compute the gradients\n",
    "    grad_m = -2.0 * np.sum(x_data * (y_data - model(x_data, m, c)))\n",
    "    grad_c = -2.0 * np.sum(y_data - model(x_data, m, c))\n",
    "\n",
    "    # Update the parameters\n",
    "    m = m - learning_rate * grad_m\n",
    "    c = c - learning_rate * grad_c\n",
    "\n",
    "    if i % 100 == 0:  # print progress every 100 steps\n",
    "        y_predicted = model(x_data, m, c)\n",
    "        current_loss = loss(y_data, y_predicted)\n",
    "        print(f'Iteration {i}, Loss: {current_loss}')\n",
    "\n",
    "print(f'Final parameters - m: {m}, c: {c}')"
   ],
   "metadata": {
    "collapsed": false,
    "ExecuteTime": {
     "start_time": "2023-08-27T02:56:50.023027Z"
    }
   }
  },
  {
   "cell_type": "code",
   "execution_count": null,
   "outputs": [],
   "source": [],
   "metadata": {
    "collapsed": false
   }
  },
  {
   "cell_type": "code",
   "execution_count": 20,
   "outputs": [
    {
     "data": {
      "text/plain": "tensor([0., 1., 2., 3.], requires_grad=True)"
     },
     "execution_count": 20,
     "metadata": {},
     "output_type": "execute_result"
    }
   ],
   "source": [
    "import torch\n",
    "\n",
    "x = torch.arange(4.0)\n",
    "x.requires_grad_()\n",
    "x.grad\n",
    "x"
   ],
   "metadata": {
    "collapsed": false,
    "ExecuteTime": {
     "end_time": "2023-08-27T03:00:03.483987Z",
     "start_time": "2023-08-27T03:00:03.480603Z"
    }
   }
  },
  {
   "cell_type": "code",
   "execution_count": 27,
   "outputs": [
    {
     "data": {
      "text/plain": "tensor([ 0., 28., 56., 84.])"
     },
     "execution_count": 27,
     "metadata": {},
     "output_type": "execute_result"
    }
   ],
   "source": [
    "y = 2 * torch.dot(x, x)\n",
    "y.backward()\n",
    "x.grad"
   ],
   "metadata": {
    "collapsed": false,
    "ExecuteTime": {
     "end_time": "2023-08-27T03:01:06.330501Z",
     "start_time": "2023-08-27T03:01:06.322877Z"
    }
   }
  }
 ],
 "metadata": {
  "kernelspec": {
   "display_name": "Python 3",
   "language": "python",
   "name": "python3"
  },
  "language_info": {
   "codemirror_mode": {
    "name": "ipython",
    "version": 3
   },
   "file_extension": ".py",
   "mimetype": "text/x-python",
   "name": "python",
   "nbconvert_exporter": "python",
   "pygments_lexer": "ipython3",
   "version": "3.11.4"
  },
  "orig_nbformat": 4
 },
 "nbformat": 4,
 "nbformat_minor": 2
}
