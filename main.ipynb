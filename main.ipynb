{
 "cells": [
  {
   "cell_type": "code",
   "execution_count": 2,
   "metadata": {
    "is_executing": true
   },
   "outputs": [
    {
     "name": "stdout",
     "output_type": "stream",
     "text": [
      "tensor([[ 0.,  1.,  2.,  3.],\n",
      "        [ 4.,  5.,  6.,  7.],\n",
      "        [ 8.,  9., 10., 11.]])\n",
      "tensor([ 8.,  9., 10., 11.])\n",
      "tensor([[ 4.,  5.,  6.,  7.],\n",
      "        [ 8.,  9., 10., 11.]])\n",
      "tensor([[[ 0.,  1.,  2.,  3.],\n",
      "         [ 4.,  5.,  6.,  7.],\n",
      "         [ 8.,  9., 10., 11.]],\n",
      "\n",
      "        [[12., 13., 14., 15.],\n",
      "         [16., 17., 18., 19.],\n",
      "         [20., 21., 22., 23.]]]) tensor([[[48., 49., 50.],\n",
      "         [51., 52., 53.],\n",
      "         [54., 55., 56.],\n",
      "         [57., 58., 59.]],\n",
      "\n",
      "        [[60., 61., 62.],\n",
      "         [63., 64., 65.],\n",
      "         [66., 67., 68.],\n",
      "         [69., 70., 71.]]])\n"
     ]
    }
   ],
   "source": [
    "import torch\n",
    "\n",
    "x = torch.arange(12, dtype=torch.float32)\n",
    "x.shape\n",
    "\n",
    "X = x.reshape(3, -1)\n",
    "\n",
    "print(X)\n",
    "\n",
    "torch.zeros((2, 3, 4))\n",
    "\n",
    "torch.tensor([[2, 1, 4, 3], [1, 2, 3, 4], [4, 3, 2, 1]])\n",
    "\n",
    "print(X[-1], X[1:3], sep=\"\\n\")\n",
    "\n",
    "X[1, 2] = 17\n",
    "\n",
    "X[:2, :] = 12\n",
    "\n",
    "torch.exp(x)\n",
    "\n",
    "X = torch.arange(24, dtype=torch.float32).reshape((2, 3, 4))\n",
    "Y = torch.arange(24, 48, dtype=torch.float32).reshape((2, 3, 4))\n",
    "Z = torch.arange(48, 72, dtype=torch.float32).reshape((2, 4, 3))\n",
    "\n",
    "print(X, Z)\n",
    "\n",
    "tensor = torch.tensor([[[1, 2, 3]], [[4, 5, 6]]])"
   ]
  },
  {
   "cell_type": "code",
   "execution_count": 3,
   "metadata": {
    "is_executing": true
   },
   "outputs": [],
   "source": [
    "import os\n",
    "\n",
    "os.makedirs(os.path.join(\"..\", \"data\"), exist_ok=True)\n",
    "data_file = os.path.join(\".\", \"data\", \"house_tiny.csv\")\n",
    "with open(data_file, \"w\") as f:\n",
    "    f.write(\n",
    "        \"\"\"NumRooms,RoofType,Price\n",
    "NA,NA,127500\n",
    "2,NA,106000\n",
    "4,Slate,178100\n",
    "NA,NA,140000\"\"\"\n",
    "    )"
   ]
  },
  {
   "cell_type": "code",
   "execution_count": 4,
   "metadata": {
    "is_executing": true
   },
   "outputs": [
    {
     "name": "stdout",
     "output_type": "stream",
     "text": [
      "   NumRooms RoofType   Price\n",
      "0       NaN      NaN  127500\n",
      "1       2.0      NaN  106000\n",
      "2       4.0    Slate  178100\n",
      "3       NaN      NaN  140000\n",
      "   NumRooms  RoofType_Slate  RoofType_nan\n",
      "0       NaN               0             1\n",
      "1       2.0               0             1\n",
      "2       4.0               1             0\n",
      "3       NaN               0             1\n",
      "   NumRooms  RoofType_Slate  RoofType_nan\n",
      "0       3.0               0             1\n",
      "1       2.0               0             1\n",
      "2       4.0               1             0\n",
      "3       3.0               0             1\n"
     ]
    }
   ],
   "source": [
    "import pandas as pd\n",
    "\n",
    "data = pd.read_csv(\"data/house_tiny.csv\")\n",
    "\n",
    "print(data)\n",
    "\n",
    "inputs, targets = data.iloc[:, 0:2], data.iloc[:, 2]\n",
    "inputs = pd.get_dummies(inputs, dummy_na=True)\n",
    "print(inputs)\n",
    "\n",
    "inputs = inputs.fillna(inputs.mean())\n",
    "print(inputs)"
   ]
  },
  {
   "cell_type": "code",
   "execution_count": 5,
   "metadata": {
    "is_executing": true
   },
   "outputs": [
    {
     "data": {
      "text/plain": [
       "(tensor([[3., 0., 1.],\n",
       "         [2., 0., 1.],\n",
       "         [4., 1., 0.],\n",
       "         [3., 0., 1.]], dtype=torch.float64),\n",
       " tensor([127500, 106000, 178100, 140000]))"
      ]
     },
     "execution_count": 5,
     "metadata": {},
     "output_type": "execute_result"
    }
   ],
   "source": [
    "import torch\n",
    "\n",
    "X, y = torch.tensor(inputs.values), torch.tensor(targets.values)\n",
    "X, y"
   ]
  },
  {
   "cell_type": "code",
   "execution_count": 6,
   "metadata": {
    "is_executing": true
   },
   "outputs": [
    {
     "name": "stdout",
     "output_type": "stream",
     "text": [
      "   NumRooms RoofType   Price\n",
      "0       NaN      NaN  127500\n",
      "1       2.0      NaN  106000\n",
      "2       4.0    Slate  178100\n",
      "3       NaN      NaN  140000\n",
      "   NumRooms  RoofType_Slate  RoofType_nan\n",
      "0       NaN               0             1\n",
      "1       2.0               0             1\n",
      "2       4.0               1             0\n",
      "3       NaN               0             1\n",
      "   NumRooms  RoofType_Slate  RoofType_nan\n",
      "0       3.0               0             1\n",
      "1       2.0               0             1\n",
      "2       4.0               1             0\n",
      "3       3.0               0             1\n"
     ]
    }
   ],
   "source": [
    "import pandas as pd\n",
    "\n",
    "data = pd.read_csv(\"data/house_tiny.csv\")\n",
    "\n",
    "print(data)\n",
    "\n",
    "inputs, targets = data.iloc[:, 0:2], data.iloc[:, 2]\n",
    "inputs = pd.get_dummies(inputs, dummy_na=True)\n",
    "print(inputs)\n",
    "\n",
    "inputs = inputs.fillna(inputs.mean())\n",
    "print(inputs)"
   ]
  },
  {
   "cell_type": "code",
   "execution_count": 7,
   "metadata": {
    "is_executing": true
   },
   "outputs": [
    {
     "name": "stdout",
     "output_type": "stream",
     "text": [
      "tensor([[0., 1., 2.],\n",
      "        [3., 4., 5.]])\n",
      "tensor([[ 3.],\n",
      "        [12.]])\n",
      "tensor([[ 3.,  3.,  3.],\n",
      "        [12., 12., 12.]])\n",
      "tensor([[0.0000, 0.3333, 0.6667],\n",
      "        [0.2500, 0.3333, 0.4167]])\n",
      "tensor([[0.0000, 0.3333, 0.6667],\n",
      "        [0.2500, 0.3333, 0.4167]])\n"
     ]
    },
    {
     "data": {
      "text/plain": [
       "tensor([[0., 1., 2.],\n",
       "        [3., 5., 7.]])"
      ]
     },
     "execution_count": 7,
     "metadata": {},
     "output_type": "execute_result"
    }
   ],
   "source": [
    "A = torch.arange(6, dtype=torch.float32).reshape(2, 3)\n",
    "B = A.clone()  # Assign a copy of A to B by allocating new memory\n",
    "print(A)\n",
    "\n",
    "sum_A = A.sum(dim=1, keepdim=True)\n",
    "print(sum_A)\n",
    "\n",
    "test_b = torch.tensor(\n",
    "    [\n",
    "        [\n",
    "            3,\n",
    "            3,\n",
    "            3,\n",
    "        ],\n",
    "        [12, 12, 12],\n",
    "    ],\n",
    "    dtype=torch.float32,\n",
    ")\n",
    "print(test_b)\n",
    "\n",
    "print(A / sum_A)\n",
    "print(A / test_b)\n",
    "\n",
    "A.cumsum(dim=0)"
   ]
  },
  {
   "cell_type": "code",
   "execution_count": 8,
   "metadata": {
    "is_executing": true
   },
   "outputs": [
    {
     "name": "stdout",
     "output_type": "stream",
     "text": [
      "tensor([0., 1., 2.])\n",
      "tensor([1., 1., 1.])\n",
      "tensor(3.)\n"
     ]
    },
    {
     "data": {
      "text/plain": [
       "tensor(3.)"
      ]
     },
     "execution_count": 8,
     "metadata": {},
     "output_type": "execute_result"
    }
   ],
   "source": [
    "x = torch.arange(3, dtype=torch.float32)\n",
    "y = torch.ones(3, dtype=torch.float32)\n",
    "print(x, y, torch.dot(x, y), sep=\"\\n\")\n",
    "\n",
    "torch.sum(x * y)"
   ]
  },
  {
   "cell_type": "code",
   "execution_count": 9,
   "metadata": {
    "is_executing": true
   },
   "outputs": [
    {
     "data": {
      "text/plain": [
       "(torch.Size([2, 3]), torch.Size([3]), tensor([ 5., 14.]), tensor([ 5., 14.]))"
      ]
     },
     "execution_count": 9,
     "metadata": {},
     "output_type": "execute_result"
    }
   ],
   "source": [
    "A.shape, x.shape, torch.mv(A, x), A @ x"
   ]
  },
  {
   "cell_type": "code",
   "execution_count": 10,
   "metadata": {
    "is_executing": true
   },
   "outputs": [
    {
     "name": "stdout",
     "output_type": "stream",
     "text": [
      "Origin:\n",
      "tensor([[1, 2, 3],\n",
      "        [4, 5, 6],\n",
      "        [7, 8, 9]])\n",
      "tensor([[10, 11, 12],\n",
      "        [13, 14, 15],\n",
      "        [16, 17, 18]])\n",
      "\n",
      "Transposed:\n",
      "tensor([[1, 4, 7],\n",
      "        [2, 5, 8],\n",
      "        [3, 6, 9]])\n",
      "tensor([[10, 13, 16],\n",
      "        [11, 14, 17],\n",
      "        [12, 15, 18]])\n",
      "\n",
      "Transposed before sum:\n",
      "tensor([[11, 17, 23],\n",
      "        [13, 19, 25],\n",
      "        [15, 21, 27]])\n",
      "\n",
      "Transposed after sum:\n",
      "tensor([[11, 17, 23],\n",
      "        [13, 19, 25],\n",
      "        [15, 21, 27]])\n"
     ]
    }
   ],
   "source": [
    "A = torch.tensor([[1, 2, 3], [4, 5, 6], [7, 8, 9]])\n",
    "B = torch.tensor([[10, 11, 12], [13, 14, 15], [16, 17, 18]])\n",
    "\n",
    "print(\"Origin:\")\n",
    "print(A, B, end=\"\\n\\n\", sep=\"\\n\")\n",
    "\n",
    "print(\"Transposed:\")\n",
    "print(A.T, B.T, end=\"\\n\\n\", sep=\"\\n\")\n",
    "\n",
    "print(\"Transposed before sum:\")\n",
    "print(A.T + B.T, end=\"\\n\\n\", sep=\"\\n\")\n",
    "\n",
    "print(\"Transposed after sum:\")\n",
    "print((A + B).T, end=\"\\n\\n\", sep=\"\\n\")"
   ]
  },
  {
   "cell_type": "code",
   "execution_count": 11,
   "metadata": {
    "is_executing": true
   },
   "outputs": [
    {
     "data": {
      "text/plain": [
       "tensor([[True, True, True],\n",
       "        [True, True, True],\n",
       "        [True, True, True]])"
      ]
     },
     "execution_count": 11,
     "metadata": {},
     "output_type": "execute_result"
    }
   ],
   "source": [
    "(A + A.T) == (A + A.T).T"
   ]
  },
  {
   "cell_type": "code",
   "execution_count": 12,
   "metadata": {
    "is_executing": true
   },
   "outputs": [
    {
     "name": "stdout",
     "output_type": "stream",
     "text": [
      "tensor([[[ 0,  1,  2,  3],\n",
      "         [ 4,  5,  6,  7],\n",
      "         [ 8,  9, 10, 11]],\n",
      "\n",
      "        [[12, 13, 14, 15],\n",
      "         [16, 17, 18, 19],\n",
      "         [20, 21, 22, 23]]])\n"
     ]
    },
    {
     "data": {
      "text/plain": [
       "tensor([[12, 14, 16, 18],\n",
       "        [20, 22, 24, 26],\n",
       "        [28, 30, 32, 34]])"
      ]
     },
     "execution_count": 12,
     "metadata": {},
     "output_type": "execute_result"
    }
   ],
   "source": [
    "X = torch.arange(24).reshape(2, 3, 4)\n",
    "print(X)\n",
    "X.sum(dim=0)"
   ]
  },
  {
   "cell_type": "code",
   "execution_count": 13,
   "metadata": {
    "is_executing": true
   },
   "outputs": [
    {
     "name": "stdout",
     "output_type": "stream",
     "text": [
      "Original tensor:\n",
      "tensor([[1, 2, 3],\n",
      "        [4, 5, 6],\n",
      "        [7, 8, 9]])\n",
      "\n",
      "Summed up along dim 1 (column):\n",
      "tensor([ 6, 15, 24])\n",
      "\n",
      "The result:\n",
      "tensor([[0.1667, 0.1333, 0.1250],\n",
      "        [0.6667, 0.3333, 0.2500],\n",
      "        [1.1667, 0.5333, 0.3750]])\n"
     ]
    }
   ],
   "source": [
    "print(\"Original tensor:\")\n",
    "print(A)\n",
    "print()\n",
    "\n",
    "print(\"Summed up along dim 1 (column):\")\n",
    "print(A.sum(dim=1))\n",
    "print()\n",
    "\n",
    "print(\"The result:\")\n",
    "print(A / A.sum(dim=1))"
   ]
  },
  {
   "cell_type": "code",
   "execution_count": 14,
   "metadata": {
    "is_executing": true
   },
   "outputs": [
    {
     "name": "stdout",
     "output_type": "stream",
     "text": [
      "tensor([[[ 0,  1,  2,  3],\n",
      "         [ 4,  5,  6,  7],\n",
      "         [ 8,  9, 10, 11]],\n",
      "\n",
      "        [[12, 13, 14, 15],\n",
      "         [16, 17, 18, 19],\n",
      "         [20, 21, 22, 23]]])\n",
      "\n",
      "torch.Size([3, 4])\n",
      "torch.Size([2, 4])\n",
      "torch.Size([2, 3])\n"
     ]
    }
   ],
   "source": [
    "X = torch.arange(24).reshape(2, 3, 4)\n",
    "\n",
    "print(X, end=\"\\n\\n\")\n",
    "\n",
    "print(X.sum(dim=0).shape)\n",
    "print(X.sum(dim=1).shape)\n",
    "print(X.sum(dim=2).shape)"
   ]
  },
  {
   "cell_type": "code",
   "execution_count": 15,
   "metadata": {
    "is_executing": true
   },
   "outputs": [
    {
     "name": "stdout",
     "output_type": "stream",
     "text": [
      "tensor(3.7417)\n",
      "3.7416573867739413\n",
      "tensor(188.9974)\n",
      "188.9973544788392\n"
     ]
    }
   ],
   "source": [
    "import math\n",
    "\n",
    "S = torch.arange(4).reshape(2, 2).float()  # create a simply two-dim tensor\n",
    "print(torch.linalg.norm(S))  # calc norm of it\n",
    "print(math.sqrt(0**2 + 1**2 + 2**2 + 3**2))  # calc norm using plain mathematics\n",
    "\n",
    "J = torch.arange(48).reshape(2, 3, 4, 2).float()  # create a complex 4-dim tensor\n",
    "print(torch.linalg.norm(J))  # calc norm of it\n",
    "print(\n",
    "    math.sqrt(sum(i**2 for i in range(48)))\n",
    ")  # calc norm using plain mathematics which is not ideal"
   ]
  },
  {
   "cell_type": "code",
   "execution_count": 16,
   "metadata": {
    "is_executing": true
   },
   "outputs": [
    {
     "name": "stdout",
     "output_type": "stream",
     "text": [
      "Time taken for (A @ B) @ C: 1.4066696166992188e-05 seconds\n",
      "Time taken for A @ (B @ C): 9.059906005859375e-06 seconds\n"
     ]
    }
   ],
   "source": [
    "import time\n",
    "\n",
    "# Set the random seed for reproducibility\n",
    "torch.manual_seed(0)\n",
    "\n",
    "# Initialize the matrices\n",
    "A = torch.randn(2**10, 2**16)\n",
    "B = torch.randn(2**16, 2**5)\n",
    "C = torch.randn(2**5, 2**14)\n",
    "\n",
    "# measure the time used for running `(A @ B) @ C`\n",
    "start_time = time.time()\n",
    "# result_1 = (A @ B) @ C\n",
    "end_time = time.time()\n",
    "time_taken_1 = end_time - start_time\n",
    "print(f\"Time taken for (A @ B) @ C: {time_taken_1} seconds\")\n",
    "\n",
    "# measure the time used for running `A @ (B @ C)`\n",
    "start_time = time.time()\n",
    "# result_2 = A @ (B @ C)\n",
    "end_time = time.time()\n",
    "time_taken_2 = end_time - start_time\n",
    "print(f\"Time taken for A @ (B @ C): {time_taken_2} seconds\")"
   ]
  },
  {
   "cell_type": "code",
   "execution_count": 17,
   "metadata": {},
   "outputs": [
    {
     "name": "stdout",
     "output_type": "stream",
     "text": [
      "The code took 0.024152667028829455 seconds to run.\n",
      "The code took 0.02381775004323572 seconds to run.\n"
     ]
    }
   ],
   "source": [
    "import time\n",
    "\n",
    "# The simplified case\n",
    "\n",
    "a = torch.arange(24).reshape(4, 6)\n",
    "b = torch.arange(24, 36).reshape(6, 2)\n",
    "c = torch.arange(36, 48).reshape(2, 6)\n",
    "\n",
    "print(a, b, c, sep=\"\\n\")\n",
    "print(a @ b)\n",
    "\n",
    "A = torch.randn((2**10, 2**16))\n",
    "B = torch.randn((2**16, 2**5))\n",
    "C = torch.randn((2**5, 2**16))\n",
    "\n",
    "start_time = time.perf_counter()\n",
    "result_a = A @ B\n",
    "time_taken = time.perf_counter() - start_time\n",
    "print(f\"The code took {time_taken} seconds to run.\")\n",
    "\n",
    "start_time = time.perf_counter()\n",
    "result_b = A @ C.T\n",
    "time_taken = time.perf_counter() - start_time\n",
    "print(f\"The code took {time_taken} seconds to run.\")"
   ]
  },
  {
   "cell_type": "code",
   "execution_count": 33,
   "metadata": {},
   "outputs": [
    {
     "data": {
      "text/plain": [
       "tensor([[True, True, True,  ..., True, True, True],\n",
       "        [True, True, True,  ..., True, True, True],\n",
       "        [True, True, True,  ..., True, True, True],\n",
       "        ...,\n",
       "        [True, True, True,  ..., True, True, True],\n",
       "        [True, True, True,  ..., True, True, True],\n",
       "        [True, True, True,  ..., True, True, True]])"
      ]
     },
     "execution_count": 33,
     "metadata": {},
     "output_type": "execute_result"
    }
   ],
   "source": [
    "A = torch.randn(100, 200)\n",
    "B = torch.randn(100, 200)\n",
    "C = torch.randn(100, 200)\n",
    "\n",
    "# stack A, B and C\n",
    "T = torch.stack((A, B, C))\n",
    "\n",
    "# slice out to recover B, as you can see they are equal.\n",
    "B == T[1]"
   ]
  },
  {
   "cell_type": "markdown",
   "metadata": {
    "collapsed": false
   },
   "source": [
    "$$\\lim_{x \\to 3} \\frac{-4}{2x-5}$$"
   ]
  },
  {
   "cell_type": "code",
   "execution_count": 16,
   "metadata": {
    "is_executing": true
   },
   "outputs": [
    {
     "data": {
      "image/png": "[encoded data removed]",
      "text/plain": [
       "<Figure size 640x480 with 1 Axes>"
      ]
     },
     "metadata": {},
     "output_type": "display_data"
    }
   ],
   "source": [
    "import matplotlib.pyplot as plt\n",
    "import numpy as np\n",
    "\n",
    "# Generate a range of x values from -10 to 10\n",
    "x = np.linspace(-10, 10, 400)\n",
    "\n",
    "# Make sure to avoid x = 8 because it would make the denominator 0 and the function undefined\n",
    "x = x[x != 8]\n",
    "\n",
    "# Define the function\n",
    "y = (x + 1)**2 / (8 - x)\n",
    "\n",
    "# Create the plot\n",
    "plt.plot(x, y)\n",
    "\n",
    "# Add x and y axes\n",
    "plt.axhline(0, color='black',linewidth=0.5)\n",
    "plt.axvline(0, color='black',linewidth=0.5)\n",
    "plt.grid(color = 'gray', linestyle = '--', linewidth = 0.5)\n",
    "\n",
    "# Set x ticks\n",
    "plt.ylim(-500, 1000)\n",
    "plt.xticks(np.arange(-10, 11, step=1))\n",
    "\n",
    "# Show the plot\n",
    "plt.show()"
   ]
  },
  {
   "cell_type": "code",
   "execution_count": null,
   "metadata": {},
   "outputs": [],
   "source": []
  }
 ],
 "metadata": {
  "kernelspec": {
   "display_name": "Python 3",
   "language": "python",
   "name": "python3"
  },
  "language_info": {
   "codemirror_mode": {
    "name": "ipython",
    "version": 3
   },
   "file_extension": ".py",
   "mimetype": "text/x-python",
   "name": "python",
   "nbconvert_exporter": "python",
   "pygments_lexer": "ipython3",
   "version": "3.11.4"
  },
  "orig_nbformat": 4
 },
 "nbformat": 4,
 "nbformat_minor": 2
}
